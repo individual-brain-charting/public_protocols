{
 "cells": [
  {
   "cell_type": "code",
   "execution_count": 2,
   "metadata": {},
   "outputs": [
    {
     "name": "stdout",
     "output_type": "stream",
     "text": [
      "[0 0 0 0 0 0 0 0 0 0 0 0 1 1 1 1 1 1 1 1 1 1 1 1 2 2 2 2 2 2 2 2 2 2 2 2 3\n",
      " 3 3 3 3 3 3 3 3 3 3 3 4 4 4 4 4 4 4 4 4 4 4 4 5 5 5 5 5 5 5 5 5 5 5 5]\n"
     ]
    }
   ],
   "source": [
    "import os\n",
    "import numpy as np\n",
    "import glob\n",
    "import csv\n",
    "import random\n",
    "\n",
    "test_array = np.repeat(np.arange(6), 12)\n",
    "print(test_array)"
   ]
  },
  {
   "cell_type": "code",
   "execution_count": 40,
   "metadata": {},
   "outputs": [
    {
     "name": "stdout",
     "output_type": "stream",
     "text": [
      "[2 1 0 5 3 4 0 0 0] 9\n",
      "[0 5 0 2 3 4 0 0 1] 7\n"
     ]
    }
   ],
   "source": [
    "np.random.shuffle(test_array)\n",
    "\n",
    "flag = np.hstack(([False], test_array[:-1] == test_array[1:]))\n",
    "flag_array = test_array[flag]\n",
    "num_ocurrences = np.sum(test_array[:-1] == test_array[1:])\n",
    "\n",
    "print(flag_array, num_ocurrences)\n",
    "\n",
    "np.random.shuffle(flag_array)\n",
    "test_array[flag] = flag_array\n",
    "num_ocurrences = np.sum(test_array[:-1] == test_array[1:])\n",
    "\n",
    "print(flag_array, num_ocurrences)"
   ]
  },
  {
   "cell_type": "code",
   "execution_count": 51,
   "metadata": {},
   "outputs": [],
   "source": [
    "# Returns a randomized version of the array where there are no consecutive numbers that are equal.\n",
    "def no_repetition_randomizer(array):\n",
    "    \n",
    "    \"\"\"Returns a randomized version of the array where there are no consecutive numbers that are equal.\"\"\"\n",
    "    \n",
    "    np.random.shuffle(array)\n",
    "    \n",
    "    # Check if any two consecutive numbers are the same.\n",
    "    num_ocurrences = np.sum(array[:-1] == array[1:])\n",
    "    \n",
    "    # While there are any ocurrences of this...\n",
    "    while num_ocurrences!=0:\n",
    "        \n",
    "        # ...shuffle the array...\n",
    "        np.random.shuffle(array)\n",
    "        \n",
    "        # ...create a flag for ocurrences...\n",
    "        flag = np.hstack(([False], array[:-1] == array[1:]))\n",
    "        flag_array = array[flag]\n",
    "        \n",
    "        # ...and shuffle them.\n",
    "        np.random.shuffle(flag_array)\n",
    "        \n",
    "        # Then re-assign them to the original array...\n",
    "        array[flag] = flag_array\n",
    "        \n",
    "        # ...and check the number of ocurrences again\n",
    "        num_ocurrences = np.sum(array[:-1] == array[1:])\n",
    "        \n",
    "    return array"
   ]
  },
  {
   "cell_type": "code",
   "execution_count": 53,
   "metadata": {},
   "outputs": [
    {
     "name": "stdout",
     "output_type": "stream",
     "text": [
      "[5 2 3 0 4 2 3 0 3 1 0 3 0 3 2 0 1 4 3 5 1 4 1 5 2 3 4 1 0 3 0 4 0 2 4 5 3\n",
      " 1 0 2 0 1 0 5 4 0 5 0 5 2 0 4 2 1 0 4 1 4 5 0 1 5 0 5 0 5 0 2 4 3 2 0]\n",
      "Help on function no_repetition_randomizer in module __main__:\n",
      "\n",
      "no_repetition_randomizer(array)\n",
      "    Returns a randomized version of the array where there are no consecutive numbers that are equal.\n",
      "\n"
     ]
    }
   ],
   "source": [
    "labels = no_repetition_randomizer(test_array)\n",
    "print(labels)\n",
    "help(no_repetition_randomizer)"
   ]
  },
  {
   "cell_type": "code",
   "execution_count": null,
   "metadata": {},
   "outputs": [],
   "source": []
  }
 ],
 "metadata": {
  "kernelspec": {
   "display_name": "Python 3",
   "language": "python",
   "name": "python3"
  },
  "language_info": {
   "codemirror_mode": {
    "name": "ipython",
    "version": 3
   },
   "file_extension": ".py",
   "mimetype": "text/x-python",
   "name": "python",
   "nbconvert_exporter": "python",
   "pygments_lexer": "ipython3",
   "version": "3.6.4"
  }
 },
 "nbformat": 4,
 "nbformat_minor": 1
}
