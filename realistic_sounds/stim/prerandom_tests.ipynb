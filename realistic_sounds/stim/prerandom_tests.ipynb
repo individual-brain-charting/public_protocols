{
 "cells": [
  {
   "cell_type": "code",
   "execution_count": 5,
   "metadata": {},
   "outputs": [
    {
     "name": "stdout",
     "output_type": "stream",
     "text": [
      "[0 0 0 0 0 0 0 0 0 0 0 0 1 1 1 1 1 1 1 1 1 1 1 1 2 2 2 2 2 2 2 2 2 2 2 2 3\n",
      " 3 3 3 3 3 3 3 3 3 3 3 4 4 4 4 4 4 4 4 4 4 4 4 5 5 5 5 5 5 5 5 5 5 5 5]\n"
     ]
    }
   ],
   "source": [
    "import os\n",
    "import numpy as np\n",
    "import glob\n",
    "import csv\n",
    "import random\n",
    "\n",
    "test_array = np.repeat(np.arange(6), 12)\n",
    "print(test_array)\n",
    "\n",
    "stim_cat_set = 12\n",
    "\n",
    "cat_names = {0: 'animal', 1: 'music', 2: 'nature',\n",
    "             3: 'speech', 4: 'tools', 5: 'voice'}\n",
    "cat_num = len(np.arange(len(cat_names.keys())))"
   ]
  },
  {
   "cell_type": "code",
   "execution_count": 2,
   "metadata": {},
   "outputs": [
    {
     "name": "stdout",
     "output_type": "stream",
     "text": [
      "[4 2 5 5 2 4 4 3 3] 9\n",
      "[2 4 4 3 2 5 5 4 3] 3\n"
     ]
    }
   ],
   "source": [
    "np.random.shuffle(test_array)\n",
    "\n",
    "flag = np.hstack(([False], test_array[:-1] == test_array[1:]))\n",
    "flag_array = test_array[flag]\n",
    "num_ocurrences = np.sum(test_array[:-1] == test_array[1:])\n",
    "\n",
    "print(flag_array, num_ocurrences)\n",
    "\n",
    "np.random.shuffle(flag_array)\n",
    "test_array[flag] = flag_array\n",
    "num_ocurrences = np.sum(test_array[:-1] == test_array[1:])\n",
    "\n",
    "print(flag_array, num_ocurrences)"
   ]
  },
  {
   "cell_type": "code",
   "execution_count": 3,
   "metadata": {},
   "outputs": [],
   "source": [
    "def no_repetition_randomizer(array):\n",
    "    \n",
    "    \"\"\"Returns a randomized version of the array where there are no consecutive numbers that are equal.\"\"\"\n",
    "    \n",
    "    np.random.shuffle(array)\n",
    "    \n",
    "    # Check if any two consecutive numbers are the same.\n",
    "    num_ocurrences = np.sum(array[:-1] == array[1:])\n",
    "    \n",
    "    # While there are any ocurrences of this...\n",
    "    while num_ocurrences!=0:\n",
    "        \n",
    "        # ...shuffle the array...\n",
    "        np.random.shuffle(array)\n",
    "        \n",
    "        # ...create a flag for ocurrences...\n",
    "        flag = np.hstack(([False], array[:-1] == array[1:]))\n",
    "        flag_array = array[flag]\n",
    "        \n",
    "        # ...and shuffle them.\n",
    "        np.random.shuffle(flag_array)\n",
    "        \n",
    "        # Then re-assign them to the original array...\n",
    "        array[flag] = flag_array\n",
    "        \n",
    "        # ...and check the number of ocurrences again\n",
    "        num_ocurrences = np.sum(array[:-1] == array[1:])\n",
    "        \n",
    "    return array"
   ]
  },
  {
   "cell_type": "code",
   "execution_count": 8,
   "metadata": {},
   "outputs": [],
   "source": [
    "random_labels = no_repetition_randomizer(test_array)"
   ]
  },
  {
   "cell_type": "code",
   "execution_count": 6,
   "metadata": {},
   "outputs": [
    {
     "name": "stdout",
     "output_type": "stream",
     "text": [
      "[ 0  1  2  3  4  5  6  7  8  9 10 11 12 13 14 15 16 17 18 19 20 21 22 23\n",
      " 24 25 26 27 28 29 30 31 32 33 34 35 36 37 38 39 40 41 42 43 44 45 46 47\n",
      " 48 49 50 51 52 53 54 55 56 57 58 59 60 61 62 63 64 65 66 67 68 69 70 71] [0. 0. 0. 0. 0. 0. 0. 0. 0. 0. 0. 0. 0. 0. 0. 0. 0. 0. 0. 0. 0. 0. 0. 0.\n",
      " 0. 0. 0. 0. 0. 0. 0. 0. 0. 0. 0. 0. 0. 0. 0. 0. 0. 0. 0. 0. 0. 0. 0. 0.\n",
      " 0. 0. 0. 0. 0. 0. 0. 0. 0. 0. 0. 0. 0. 0. 0. 0. 0. 0. 0. 0. 0. 0. 0. 0.]\n"
     ]
    }
   ],
   "source": [
    "sounds = np.arange(stim_cat_set * cat_list)\n",
    "final_sounds = np.zeros(stim_cat_set * cat_list)\n",
    "\n",
    "print(sounds, final_sounds)"
   ]
  },
  {
   "cell_type": "code",
   "execution_count": 9,
   "metadata": {},
   "outputs": [
    {
     "name": "stdout",
     "output_type": "stream",
     "text": [
      "[15. 39. 54. 66.  6. 68. 34. 67. 27. 22. 53.  4. 52. 19.  7. 64.  5. 12.\n",
      " 60. 36. 61. 50. 25. 71. 44. 17. 47. 56. 10. 13. 29. 21.  3. 38. 65. 42.\n",
      " 31. 11. 41. 69. 51. 62. 48. 43. 24. 70.  1. 18. 33. 37. 58. 32.  2. 30.\n",
      "  9. 46. 59. 20. 26. 63. 40. 14.  8. 35. 45. 49. 23. 57.  0. 16. 55. 28.]\n"
     ]
    }
   ],
   "source": [
    "for label in range(len(np.unique(random_labels))):\n",
    "    final_sounds[random_labels == label] = np.random.permutation(sounds[label * stim_cat_set: (label + 1) * stim_cat_set])\n",
    "    \n",
    "print(final_sounds)"
   ]
  },
  {
   "cell_type": "code",
   "execution_count": 25,
   "metadata": {},
   "outputs": [],
   "source": [
    "def random_map(label_array):\n",
    "    \"\"\"Returns a list the same length of the label array with numbers up to len(label_array).\"\"\"\n",
    "    # Initialize the output list.\n",
    "    output_list = np.zeros(len(label_array))\n",
    "    \n",
    "    # Find out the number of categories...\n",
    "    cat_num = len(np.unique(label_array))\n",
    "    \n",
    "    # ...and the number of elements for each category.\n",
    "    stim_per_cat = int(len(label_array) / cat_num)\n",
    "    \n",
    "    for label in range(cat_num):\n",
    "        output_list[label_array == label] = np.random.permutation(range(label * stim_per_cat,\n",
    "                                                                        (label + 1) * stim_per_cat))\n",
    "        \n",
    "    return output_list"
   ]
  },
  {
   "cell_type": "code",
   "execution_count": 27,
   "metadata": {},
   "outputs": [
    {
     "name": "stdout",
     "output_type": "stream",
     "text": [
      "12 6\n",
      "[15. 42. 49. 66.  1. 71. 35. 70. 28. 17. 50.  9. 57. 13.  5. 64. 10. 19.\n",
      " 62. 38. 60. 54. 30. 68. 45. 20. 39. 56.  7. 14. 25. 22. 11. 46. 65. 37.\n",
      " 26.  8. 36. 61. 55. 67. 59. 47. 24. 69.  3. 18. 29. 41. 48. 31.  2. 27.\n",
      "  4. 40. 58. 16. 33. 63. 44. 23.  0. 34. 43. 52. 21. 53.  6. 12. 51. 32.]\n"
     ]
    }
   ],
   "source": [
    "final_list = random_map(random_labels)\n",
    "print(final_list)"
   ]
  },
  {
   "cell_type": "code",
   "execution_count": null,
   "metadata": {},
   "outputs": [],
   "source": []
  }
 ],
 "metadata": {
  "kernelspec": {
   "display_name": "Python 3",
   "language": "python",
   "name": "python3"
  },
  "language_info": {
   "codemirror_mode": {
    "name": "ipython",
    "version": 3
   },
   "file_extension": ".py",
   "mimetype": "text/x-python",
   "name": "python",
   "nbconvert_exporter": "python",
   "pygments_lexer": "ipython3",
   "version": "3.6.4"
  }
 },
 "nbformat": 4,
 "nbformat_minor": 1
}
